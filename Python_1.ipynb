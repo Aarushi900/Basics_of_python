{
  "nbformat": 4,
  "nbformat_minor": 0,
  "metadata": {
    "colab": {
      "provenance": [],
      "authorship_tag": "ABX9TyMZpsxkpjfXPvOwCxrBMi1M",
      "include_colab_link": true
    },
    "kernelspec": {
      "name": "python3",
      "display_name": "Python 3"
    },
    "language_info": {
      "name": "python"
    }
  },
  "cells": [
    {
      "cell_type": "markdown",
      "metadata": {
        "id": "view-in-github",
        "colab_type": "text"
      },
      "source": [
        "<a href=\"https://colab.research.google.com/github/Aarushi900/Basics_of_python/blob/main/Python_1.ipynb\" target=\"_parent\"><img src=\"https://colab.research.google.com/assets/colab-badge.svg\" alt=\"Open In Colab\"/></a>"
      ]
    },
    {
      "cell_type": "markdown",
      "source": [
        "# New Section\n",
        "\n",
        "# L is a list defined as L= [11, 12, 13, 14].\n",
        "\n"
      ],
      "metadata": {
        "id": "jHL8uf2gOFFk"
      }
    },
    {
      "cell_type": "code",
      "source": [
        "L=[11,12,13,14]\n",
        "L"
      ],
      "metadata": {
        "colab": {
          "base_uri": "https://localhost:8080/"
        },
        "id": "_7rmrpVXOVlt",
        "outputId": "7335ffde-05ec-4ca4-cbee-ac4096562496"
      },
      "execution_count": null,
      "outputs": [
        {
          "output_type": "execute_result",
          "data": {
            "text/plain": [
              "[11, 12, 13, 14]"
            ]
          },
          "metadata": {},
          "execution_count": 11
        }
      ]
    },
    {
      "cell_type": "markdown",
      "source": [
        "(i) WAP to add 50 and 60 to L.\n",
        "\n",
        "\n",
        "\n",
        "\n",
        "\n"
      ],
      "metadata": {
        "id": "DLQe83oeRqru"
      }
    },
    {
      "cell_type": "code",
      "source": [
        "L.append(50)\n",
        "L.append(60)\n",
        "L"
      ],
      "metadata": {
        "colab": {
          "base_uri": "https://localhost:8080/"
        },
        "id": "eEWJYI18OYNG",
        "outputId": "86ae1d5b-4476-4181-87e7-4eeaf19d378e"
      },
      "execution_count": null,
      "outputs": [
        {
          "output_type": "execute_result",
          "data": {
            "text/plain": [
              "[11, 12, 13, 14, 50, 60]"
            ]
          },
          "metadata": {},
          "execution_count": 12
        }
      ]
    },
    {
      "cell_type": "markdown",
      "source": [
        "\n",
        "\n",
        "---\n",
        "(ii) WAP to remove 11 and 13from L\n"
      ],
      "metadata": {
        "id": "jx20Q12yR2YT"
      }
    },
    {
      "cell_type": "code",
      "source": [
        "L.remove(11)\n",
        "L.remove(13)\n",
        "L"
      ],
      "metadata": {
        "colab": {
          "base_uri": "https://localhost:8080/"
        },
        "id": "HIaa6g34O04I",
        "outputId": "0a7ac71f-1104-4f8c-bfbe-e7796f6e6d85"
      },
      "execution_count": null,
      "outputs": [
        {
          "output_type": "execute_result",
          "data": {
            "text/plain": [
              "[12, 14, 50, 60]"
            ]
          },
          "metadata": {},
          "execution_count": 13
        }
      ]
    },
    {
      "cell_type": "markdown",
      "source": [
        "\n",
        "\n",
        "---\n",
        "\n",
        "(iii) WAP to sort L in ascending order."
      ],
      "metadata": {
        "id": "OyY1uriVR7K3"
      }
    },
    {
      "cell_type": "code",
      "source": [
        "#method 1\n",
        "L.sort()\n",
        "print(L)\n",
        "#method 2\n",
        "new_L=[]\n",
        "while L:\n",
        "  min=L[0]\n",
        "  for i in L:\n",
        "    if min > i:\n",
        "      min = i\n",
        "  L.remove(min)\n",
        "  new_L.append(min)\n",
        "print(new_L)\n",
        "L=new_L\n"
      ],
      "metadata": {
        "colab": {
          "base_uri": "https://localhost:8080/"
        },
        "id": "wqzuxDvbPEPM",
        "outputId": "d5bdc7de-cd41-47c8-a2e0-d6e2f4ed8773"
      },
      "execution_count": null,
      "outputs": [
        {
          "output_type": "stream",
          "name": "stdout",
          "text": [
            "[12, 14, 50, 60]\n",
            "[12, 14, 50, 60]\n"
          ]
        }
      ]
    },
    {
      "cell_type": "markdown",
      "source": [
        "\n",
        "\n",
        "---\n",
        " (iv) WAP to sort L in descending order.\n"
      ],
      "metadata": {
        "id": "2J8ob9SBR89F"
      }
    },
    {
      "cell_type": "code",
      "source": [
        "#method 1\n",
        "L.sort(reverse=True)\n",
        "print(L)\n",
        "#method 2\n",
        "new_L=[]\n",
        "while L:\n",
        "  max=L[0]\n",
        "  for i in L:\n",
        "    if max<i:\n",
        "      max=i\n",
        "  L.remove(max)\n",
        "  new_L.append(max)\n",
        "L=new_L\n",
        "print(L)\n",
        "del new_L\n",
        "#method 3\n",
        "L.sort()\n",
        "L=L[::-1]\n",
        "print(L)"
      ],
      "metadata": {
        "id": "r65rS3yrRbGW",
        "colab": {
          "base_uri": "https://localhost:8080/"
        },
        "outputId": "9ac0f291-ce44-45f5-8da3-dc5fd840ee34"
      },
      "execution_count": null,
      "outputs": [
        {
          "output_type": "stream",
          "name": "stdout",
          "text": [
            "[60, 50, 14, 12]\n",
            "[60, 50, 14, 12]\n",
            "[60, 50, 14, 12]\n"
          ]
        }
      ]
    },
    {
      "cell_type": "markdown",
      "source": [
        "\n",
        "\n",
        "---\n",
        "\n",
        "(v) WAP to search for 13 in L. "
      ],
      "metadata": {
        "id": "vMdMKGVA3gVs"
      }
    },
    {
      "cell_type": "code",
      "source": [
        "#method 1\n",
        "if 13 in L:\n",
        "  print(\"Exists\")\n",
        "else:\n",
        "  print(\"Not Exists\")\n",
        "#method 2\n",
        "f=0\n",
        "for i in L:\n",
        "  if i==13:\n",
        "    f=1\n",
        "    break\n",
        "if f==1:\n",
        "  print(\"Exists\")\n",
        "else:\n",
        "  print(\"Not Exists\")"
      ],
      "metadata": {
        "colab": {
          "base_uri": "https://localhost:8080/"
        },
        "id": "v-VG98gw3nac",
        "outputId": "07d58669-f844-482c-866b-b8184dd19faa"
      },
      "execution_count": null,
      "outputs": [
        {
          "output_type": "stream",
          "name": "stdout",
          "text": [
            "Not Exists\n",
            "Not Exists\n"
          ]
        }
      ]
    },
    {
      "cell_type": "markdown",
      "source": [
        "\n",
        "\n",
        "---\n",
        "\n",
        "vi) WAP to count the number of elements present in L."
      ],
      "metadata": {
        "id": "zVOJvnSE4qPO"
      }
    },
    {
      "cell_type": "code",
      "source": [
        "#method 1\n",
        "print(\"Number of elements in list: \",len(L))\n",
        "#method 2\n",
        "c=0\n",
        "for i in L:\n",
        "  c+=1\n",
        "print(\"Number of elements in list: \",c)"
      ],
      "metadata": {
        "colab": {
          "base_uri": "https://localhost:8080/"
        },
        "id": "2VVSgYQ04wuR",
        "outputId": "9f3099ed-5698-4687-dabe-72ed25d73a67"
      },
      "execution_count": null,
      "outputs": [
        {
          "output_type": "stream",
          "name": "stdout",
          "text": [
            "Number of elements in list:  4\n",
            "Number of elements in list:  4\n"
          ]
        }
      ]
    },
    {
      "cell_type": "markdown",
      "source": [
        "\n",
        "\n",
        "---\n",
        "\n",
        "(vii) WAP to sum all the elements in L"
      ],
      "metadata": {
        "id": "hUu2BXzo5dE-"
      }
    },
    {
      "cell_type": "code",
      "source": [
        "#method 1\n",
        "print(\"Sum of all elements in L is: \",sum(L))\n",
        "#method 2\n",
        "sum=0\n",
        "for i in L:\n",
        "  sum+=i\n",
        "print(\"Sum of all elements in L is: \",sum)\n",
        "del sum"
      ],
      "metadata": {
        "colab": {
          "base_uri": "https://localhost:8080/"
        },
        "id": "_MBas5-95rnX",
        "outputId": "e05ad2ae-a854-41e4-91be-9ca95a55b3ce"
      },
      "execution_count": null,
      "outputs": [
        {
          "output_type": "stream",
          "name": "stdout",
          "text": [
            "Sum of all elements in L is:  136\n",
            "Sum of all elements in L is:  136\n"
          ]
        }
      ]
    },
    {
      "cell_type": "markdown",
      "source": [
        "\n",
        "\n",
        "---\n",
        "\n",
        "(viii) WAP to sum all ODD numbers in L."
      ],
      "metadata": {
        "id": "_qjqqq5A6GNh"
      }
    },
    {
      "cell_type": "code",
      "source": [
        "s=0\n",
        "for i in L:\n",
        "  if i%2!=0:\n",
        "    s=s+i\n",
        "print(\"Sum of odd numbers in list L is: \",s)"
      ],
      "metadata": {
        "colab": {
          "base_uri": "https://localhost:8080/"
        },
        "id": "NhYBjC7K6Q9z",
        "outputId": "0477b9ac-6c59-4266-f0b3-3bd5faf1380d"
      },
      "execution_count": null,
      "outputs": [
        {
          "output_type": "stream",
          "name": "stdout",
          "text": [
            "Sum of odd numbers in list L is:  0\n"
          ]
        }
      ]
    },
    {
      "cell_type": "markdown",
      "source": [
        "\n",
        "\n",
        "---\n",
        "\n",
        "(ix) WAP to sum all EVEN numbers in L"
      ],
      "metadata": {
        "id": "Vo8BIovk6l0G"
      }
    },
    {
      "cell_type": "code",
      "source": [
        "s=0\n",
        "for i in L:\n",
        "  if i%2==0:\n",
        "    s = s + i\n",
        "print(\"Sum of odd numbers in list L is: \",s)"
      ],
      "metadata": {
        "colab": {
          "base_uri": "https://localhost:8080/"
        },
        "id": "DqUaiY-06rBj",
        "outputId": "20cefc2e-eae5-4b30-efa7-17d190a2bcb3"
      },
      "execution_count": null,
      "outputs": [
        {
          "output_type": "stream",
          "name": "stdout",
          "text": [
            "Sum of odd numbers in list L is:  136\n"
          ]
        }
      ]
    },
    {
      "cell_type": "markdown",
      "source": [
        "\n",
        "\n",
        "---\n",
        "\n",
        "(x) WAP to sum all PRIME numbers in L"
      ],
      "metadata": {
        "id": "_Vx0dxXo67-i"
      }
    },
    {
      "cell_type": "code",
      "source": [
        "def isPrime(n):\n",
        "    for i in range(2,int(n**0.5)+1):\n",
        "        if n%i==0:\n",
        "            return False\n",
        "        \n",
        "    return True\n",
        "prime_L=[]\n",
        "for i in L:\n",
        "  if isPrime(i):\n",
        "    prime_L.append(i)\n",
        "print(\"Sum of prime numbers in L is: \",sum(prime_L))"
      ],
      "metadata": {
        "colab": {
          "base_uri": "https://localhost:8080/"
        },
        "id": "L8cQA6Ub6_8a",
        "outputId": "4641cd9f-b239-43a1-90c1-71360d8b5dee"
      },
      "execution_count": null,
      "outputs": [
        {
          "output_type": "stream",
          "name": "stdout",
          "text": [
            "Sum of prime numbers in L is:  0\n"
          ]
        }
      ]
    },
    {
      "cell_type": "markdown",
      "source": [
        "\n",
        "\n",
        "---\n",
        "\n",
        "WAP to clear all the elements in L."
      ],
      "metadata": {
        "id": "6xO7_VzU8Bkj"
      }
    },
    {
      "cell_type": "code",
      "source": [
        "#method 1\n",
        "L.clear()\n",
        "print(L)\n",
        "#method 2\n",
        "L=[11,12,13,14]\n",
        "print(L)\n",
        "while L:\n",
        "  L.pop()\n",
        "print(L)"
      ],
      "metadata": {
        "colab": {
          "base_uri": "https://localhost:8080/"
        },
        "id": "wC9jY1r58GKN",
        "outputId": "3ae6639a-e361-467a-e4ff-074fa3431c32"
      },
      "execution_count": null,
      "outputs": [
        {
          "output_type": "stream",
          "name": "stdout",
          "text": [
            "[]\n",
            "[11, 12, 13, 14]\n",
            "[]\n"
          ]
        }
      ]
    },
    {
      "cell_type": "markdown",
      "source": [
        "\n",
        "\n",
        "---\n",
        "\n",
        " (xii) WAP to delete L."
      ],
      "metadata": {
        "id": "j3u7KhNr9iRD"
      }
    },
    {
      "cell_type": "code",
      "source": [
        "del L\n",
        "print(L)"
      ],
      "metadata": {
        "colab": {
          "base_uri": "https://localhost:8080/",
          "height": 182
        },
        "id": "23lEKSu49l_g",
        "outputId": "f74be8c2-032b-4c6a-93cd-3ce59cad224f"
      },
      "execution_count": null,
      "outputs": [
        {
          "output_type": "error",
          "ename": "NameError",
          "evalue": "ignored",
          "traceback": [
            "\u001b[0;31m---------------------------------------------------------------------------\u001b[0m",
            "\u001b[0;31mNameError\u001b[0m                                 Traceback (most recent call last)",
            "\u001b[0;32m<ipython-input-36-a090824c5da0>\u001b[0m in \u001b[0;36m<cell line: 2>\u001b[0;34m()\u001b[0m\n\u001b[1;32m      1\u001b[0m \u001b[0;32mdel\u001b[0m \u001b[0mL\u001b[0m\u001b[0;34m\u001b[0m\u001b[0;34m\u001b[0m\u001b[0m\n\u001b[0;32m----> 2\u001b[0;31m \u001b[0mprint\u001b[0m\u001b[0;34m(\u001b[0m\u001b[0mL\u001b[0m\u001b[0;34m)\u001b[0m\u001b[0;34m\u001b[0m\u001b[0;34m\u001b[0m\u001b[0m\n\u001b[0m",
            "\u001b[0;31mNameError\u001b[0m: name 'L' is not defined"
          ]
        }
      ]
    },
    {
      "cell_type": "markdown",
      "source": [
        "\n",
        "\n",
        "---\n",
        "\n",
        "# Q2. D is a dictionary defined as D= {1:5.6, 2:7.8, 3:6.6, 4:8.7, 5:7.7}.\n"
      ],
      "metadata": {
        "id": "W-fmSS539tEf"
      }
    },
    {
      "cell_type": "code",
      "source": [
        "D={1:5.6, 2:7.8, 3:6.6, 4:8.7, 5:7.7}"
      ],
      "metadata": {
        "id": "ZAJA-oSw9yvh"
      },
      "execution_count": null,
      "outputs": []
    },
    {
      "cell_type": "markdown",
      "source": [
        "\n",
        "\n",
        "---\n",
        "\n",
        "(i) WAP to add new entry in D; key=8 and value is 8.8 "
      ],
      "metadata": {
        "id": "uznnoMQl94lh"
      }
    },
    {
      "cell_type": "code",
      "source": [
        "D.update({8:8.8})\n",
        "print(D)"
      ],
      "metadata": {
        "colab": {
          "base_uri": "https://localhost:8080/"
        },
        "id": "nAlNiPnO-UW4",
        "outputId": "d926b462-af7f-42d5-fd2c-d493625dde59"
      },
      "execution_count": null,
      "outputs": [
        {
          "output_type": "stream",
          "name": "stdout",
          "text": [
            "{1: 5.6, 2: 7.8, 3: 6.6, 4: 8.7, 5: 7.7, 8: 8.8}\n"
          ]
        }
      ]
    },
    {
      "cell_type": "markdown",
      "source": [
        "\n",
        "\n",
        "---\n",
        "\n",
        "(ii) WAP to remove key=2."
      ],
      "metadata": {
        "id": "gjJLeZrM-eN3"
      }
    },
    {
      "cell_type": "code",
      "source": [
        "del D[2]\n",
        "print(D)"
      ],
      "metadata": {
        "colab": {
          "base_uri": "https://localhost:8080/"
        },
        "id": "A9w9Q-g0-jVn",
        "outputId": "c8e62070-d78a-4e67-a3bf-ec5455e79ad1"
      },
      "execution_count": null,
      "outputs": [
        {
          "output_type": "stream",
          "name": "stdout",
          "text": [
            "{1: 5.6, 3: 6.6, 4: 8.7, 5: 7.7, 8: 8.8}\n"
          ]
        }
      ]
    },
    {
      "cell_type": "markdown",
      "source": [
        "\n",
        "\n",
        "---\n",
        "\n",
        "WAP to check weather 6 key is present in D"
      ],
      "metadata": {
        "id": "u7tjNQDs-t6g"
      }
    },
    {
      "cell_type": "code",
      "source": [
        "#method 1\n",
        "if 6 in D.keys():\n",
        "  print(\"Key 6 exists\")\n",
        "else:\n",
        "  print(\"Key 6 does not exist\")\n",
        "#method 2\n",
        "if 6 in D:\n",
        "   print(\"Key 6 exists\")\n",
        "else:\n",
        "  print(\"Key 6 does not exist\")"
      ],
      "metadata": {
        "colab": {
          "base_uri": "https://localhost:8080/"
        },
        "id": "StwMgPeq-0b_",
        "outputId": "5cb205c9-ac76-42e8-c369-bfe0f83e856d"
      },
      "execution_count": null,
      "outputs": [
        {
          "output_type": "stream",
          "name": "stdout",
          "text": [
            "Key 6 does not exist\n",
            "Key 6 does not exist\n"
          ]
        }
      ]
    },
    {
      "cell_type": "markdown",
      "source": [
        "\n",
        "\n",
        "---\n",
        "\n",
        "(iv) WAP to count the number of elements present in D"
      ],
      "metadata": {
        "id": "ODE0XOzpBFob"
      }
    },
    {
      "cell_type": "code",
      "source": [
        "print(\"Number of elements in D are: \",len(D))"
      ],
      "metadata": {
        "colab": {
          "base_uri": "https://localhost:8080/"
        },
        "id": "JavhBsaLBE4k",
        "outputId": "6e9a423b-4396-450a-96cf-370931cc3957"
      },
      "execution_count": null,
      "outputs": [
        {
          "output_type": "stream",
          "name": "stdout",
          "text": [
            "Number of elements in D are:  5\n"
          ]
        }
      ]
    },
    {
      "cell_type": "markdown",
      "source": [
        "\n",
        "\n",
        "---\n",
        "\n",
        "(v) WAP to add all the values present D."
      ],
      "metadata": {
        "id": "GoTtwqjsBmu9"
      }
    },
    {
      "cell_type": "code",
      "source": [
        "#method 1\n",
        "s=0\n",
        "for i in D:\n",
        "  s+=D[i]\n",
        "print(\"Sum of all the elements in D are: \",s)\n",
        "#method 2\n",
        "print(\"Sum of all the elements in D are: \",sum(D.values()))"
      ],
      "metadata": {
        "colab": {
          "base_uri": "https://localhost:8080/"
        },
        "id": "ob2knwUrBrkc",
        "outputId": "f2ec90ed-f616-43f6-bb22-e3c6258d38ad"
      },
      "execution_count": null,
      "outputs": [
        {
          "output_type": "stream",
          "name": "stdout",
          "text": [
            "Sum of all the elements in D are:  37.4\n",
            "Sum of all the elements in D are:  37.4\n"
          ]
        }
      ]
    },
    {
      "cell_type": "markdown",
      "source": [
        "\n",
        "\n",
        "---\n",
        "\n",
        "(vi) WAP to update the value of 3 to 7.1."
      ],
      "metadata": {
        "id": "RiFtBaX-CTda"
      }
    },
    {
      "cell_type": "code",
      "source": [
        "#method 1\n",
        "key = 3\n",
        "value = 7.1 \n",
        "D.update({key:value})\n",
        "print(D)\n",
        "#method 2\n",
        "value=7\n",
        "D.update({key:value})\n",
        "value=7.1\n",
        "D[key]=value\n",
        "print(D)"
      ],
      "metadata": {
        "colab": {
          "base_uri": "https://localhost:8080/"
        },
        "id": "ZRC90SsQCZBc",
        "outputId": "2bc7ec80-a0d4-4825-8f26-36bc271f3a77"
      },
      "execution_count": null,
      "outputs": [
        {
          "output_type": "stream",
          "name": "stdout",
          "text": [
            "{1: 5.6, 3: 7.1, 4: 8.7, 5: 7.7, 8: 8.8}\n",
            "{1: 5.6, 3: 7.1, 4: 8.7, 5: 7.7, 8: 8.8}\n"
          ]
        }
      ]
    },
    {
      "cell_type": "markdown",
      "source": [
        "\n",
        "\n",
        "---\n",
        "(vii) WAP to clear the dictionary\n"
      ],
      "metadata": {
        "id": "rhtfVLdIDu4v"
      }
    },
    {
      "cell_type": "code",
      "source": [
        "#method 1\n",
        "D={}\n",
        "print(D)\n",
        "\n",
        "#method 2\n",
        "D= {1:5.6, 2:7.8, 3:6.6, 4:8.7, 5:7.7}\n",
        "print(D)\n",
        "D.clear()\n",
        "print(D)\n",
        "\n",
        "#method 3\n",
        "D= {1:5.6, 2:7.8, 3:6.6, 4:8.7, 5:7.7}\n",
        "print(D)\n",
        "while D:\n",
        "  D.popitem()\n",
        "print(D)\n"
      ],
      "metadata": {
        "colab": {
          "base_uri": "https://localhost:8080/"
        },
        "id": "NacfYxAGD2m3",
        "outputId": "93faa166-08a2-48d8-8e19-81a422ec5618"
      },
      "execution_count": null,
      "outputs": [
        {
          "output_type": "stream",
          "name": "stdout",
          "text": [
            "{}\n",
            "{1: 5.6, 2: 7.8, 3: 6.6, 4: 8.7, 5: 7.7}\n",
            "{}\n",
            "{1: 5.6, 2: 7.8, 3: 6.6, 4: 8.7, 5: 7.7}\n",
            "{}\n"
          ]
        }
      ]
    },
    {
      "cell_type": "markdown",
      "source": [
        "\n",
        "\n",
        "---\n",
        "\n",
        "\n",
        "\n",
        "---\n",
        "\n",
        "# Q3. S1 is a set defined as S1= [10, 20, 30, 40, 50, 60]   S2 is a set defined as S2= [40, 50, 60, 70, 80, 90]..\n"
      ],
      "metadata": {
        "id": "GhJtjTphEynq"
      }
    },
    {
      "cell_type": "code",
      "source": [
        "S1= {10, 20, 30, 40, 50, 60}\n",
        "S2= {40, 50, 60, 70, 80, 90}\n",
        "print(\"S1: \",S1)\n",
        "print(\"S2: \",S2)"
      ],
      "metadata": {
        "colab": {
          "base_uri": "https://localhost:8080/"
        },
        "id": "W6WpV6inE8wC",
        "outputId": "93d13bb8-806a-4ee0-b759-8aafd9cc78f7"
      },
      "execution_count": null,
      "outputs": [
        {
          "output_type": "stream",
          "name": "stdout",
          "text": [
            "S1:  {50, 20, 40, 10, 60, 30}\n",
            "S2:  {80, 50, 70, 40, 90, 60}\n"
          ]
        }
      ]
    },
    {
      "cell_type": "markdown",
      "source": [
        "\n",
        "\n",
        "---\n",
        "\n",
        "(i) WAP to add 55 and 66 in Set S1."
      ],
      "metadata": {
        "id": "BrVma8-HFQjt"
      }
    },
    {
      "cell_type": "code",
      "source": [
        "val1 = 55\n",
        "val2 = 66\n",
        "S1.add(val1)\n",
        "S1.add(val2)\n",
        "print(\"S1 after adding: \",S1)"
      ],
      "metadata": {
        "colab": {
          "base_uri": "https://localhost:8080/"
        },
        "id": "6xCm5Wa_FJtb",
        "outputId": "4f0cd828-6f24-44fa-e1d9-f6ee4c481a22"
      },
      "execution_count": null,
      "outputs": [
        {
          "output_type": "stream",
          "name": "stdout",
          "text": [
            "S1 after adding:  {50, 66, 20, 55, 40, 10, 60, 30}\n"
          ]
        }
      ]
    },
    {
      "cell_type": "markdown",
      "source": [
        "\n",
        "\n",
        "---\n",
        "\n",
        "(ii) WAP to remove 10 and 30 from Set S1"
      ],
      "metadata": {
        "id": "3IqdRbi2F8tX"
      }
    },
    {
      "cell_type": "code",
      "source": [
        "print(\"S1 before removing: \",S1)\n",
        "val1 = 10\n",
        "val2 = 30\n",
        "S1.remove(val1)\n",
        "S1.remove(val2)\n",
        "print(\"S1 after removing: \",S1)"
      ],
      "metadata": {
        "colab": {
          "base_uri": "https://localhost:8080/"
        },
        "id": "LlXw32SlF754",
        "outputId": "5ce501f7-9c0f-4621-d1ca-1c2a6be9e547"
      },
      "execution_count": null,
      "outputs": [
        {
          "output_type": "stream",
          "name": "stdout",
          "text": [
            "S1 before removing:  {50, 66, 20, 55, 40, 10, 60, 30}\n",
            "S1 after removing:  {50, 66, 20, 55, 40, 60}\n"
          ]
        }
      ]
    },
    {
      "cell_type": "markdown",
      "source": [
        "(iii) WAP to check whether 40 is present in S1"
      ],
      "metadata": {
        "id": "zWo4zNV6oDps"
      }
    },
    {
      "cell_type": "code",
      "source": [
        "k=40\n",
        "if k in S1:\n",
        "  print(k,\" is present in the S1\")\n",
        "else:\n",
        "  print(k,\" is not present in the S1\")\n"
      ],
      "metadata": {
        "colab": {
          "base_uri": "https://localhost:8080/"
        },
        "id": "FiBtm5MtoERc",
        "outputId": "3f2d8a4a-fe54-46ae-c7af-0c583746454e"
      },
      "execution_count": null,
      "outputs": [
        {
          "output_type": "stream",
          "name": "stdout",
          "text": [
            "40  is present in the S1\n"
          ]
        }
      ]
    },
    {
      "cell_type": "markdown",
      "source": [
        "\n",
        "\n",
        "---\n",
        "(iv) WAP to find the union between S1 and S2."
      ],
      "metadata": {
        "id": "_2ujMgq5qkEo"
      }
    },
    {
      "cell_type": "code",
      "source": [
        "uni= S1 | S2 \n",
        "print(uni,\" is the UNION of S1 and S2\")"
      ],
      "metadata": {
        "colab": {
          "base_uri": "https://localhost:8080/"
        },
        "id": "XcQDmfoTq2Ri",
        "outputId": "e9bc757f-9dea-466d-91e8-05558f423ca6"
      },
      "execution_count": null,
      "outputs": [
        {
          "output_type": "stream",
          "name": "stdout",
          "text": [
            "{66, 70, 40, 80, 50, 20, 55, 90, 60}  is the UNION of S1 and S2\n"
          ]
        }
      ]
    },
    {
      "cell_type": "markdown",
      "source": [
        "\n",
        "\n",
        "---\n",
        "\n",
        "(v) WAP to find the intersection between S1 and S2. "
      ],
      "metadata": {
        "id": "9xZDj2-OrZc1"
      }
    },
    {
      "cell_type": "code",
      "source": [
        "intersec = S1 | S2\n",
        "print(intersec,\" is the INTERSECTION of S1 and S2\")"
      ],
      "metadata": {
        "colab": {
          "base_uri": "https://localhost:8080/"
        },
        "id": "LnkCwBk_rYmF",
        "outputId": "30530543-9d70-4307-a04d-fe85764aad2f"
      },
      "execution_count": null,
      "outputs": [
        {
          "output_type": "stream",
          "name": "stdout",
          "text": [
            "{66, 70, 40, 80, 50, 20, 55, 90, 60}  is the INTERSECTION of S1 and S2\n"
          ]
        }
      ]
    },
    {
      "cell_type": "markdown",
      "source": [
        "\n",
        "\n",
        "---\n",
        "\n",
        "(vi) WAP to find the S1 - S2."
      ],
      "metadata": {
        "id": "taU6kl13roTw"
      }
    },
    {
      "cell_type": "code",
      "source": [
        "diff = S1 - S2\n",
        "print(diff,\" is the DIFFERENCE of S1 and S2\")"
      ],
      "metadata": {
        "colab": {
          "base_uri": "https://localhost:8080/"
        },
        "id": "UlFEv2YSrr_K",
        "outputId": "70d3917a-6274-4282-cdb4-4780430ef8f4"
      },
      "execution_count": null,
      "outputs": [
        {
          "output_type": "stream",
          "name": "stdout",
          "text": [
            "{66, 20, 55}  is the DIFFERENCE of S1 and S2\n"
          ]
        }
      ]
    },
    {
      "cell_type": "markdown",
      "source": [
        "\n",
        "\n",
        "---\n",
        "\n",
        "\n",
        "\n",
        "---\n",
        "# Q4. Write the following program.\n",
        "\n"
      ],
      "metadata": {
        "id": "KQgrAmFUr3kt"
      }
    },
    {
      "cell_type": "markdown",
      "source": [
        "(i) WAP to print 100 random strings whose length between 6 and 8.\n"
      ],
      "metadata": {
        "id": "podier4WsEtU"
      }
    },
    {
      "cell_type": "code",
      "source": [
        "import random\n",
        "import string\n",
        "length=100\n",
        "for i in range(length):\n",
        "  string_len=random.randint(6,8)\n",
        "  letters=string.ascii_letters\n",
        "  random_string=''.join(random.choice(letters) for _ in range(string_len))\n",
        "  print(random_string)\n"
      ],
      "metadata": {
        "colab": {
          "base_uri": "https://localhost:8080/"
        },
        "id": "WQV0NMNhsD2l",
        "outputId": "44236bb5-b730-4cb8-833e-015e300cdc9d"
      },
      "execution_count": null,
      "outputs": [
        {
          "output_type": "stream",
          "name": "stdout",
          "text": [
            "KjSRcCsM\n",
            "XBGozN\n",
            "NhnssK\n",
            "aJvDCkR\n",
            "aSOTSzF\n",
            "QWjGjcM\n",
            "OWjPQzzx\n",
            "CrKhPHx\n",
            "djrqdkE\n",
            "ZPwNAlKl\n",
            "ZhdFNzdP\n",
            "AeoFkc\n",
            "iVuuEstO\n",
            "wAdSln\n",
            "KvShMEph\n",
            "ESjMCfrh\n",
            "ipMMPSw\n",
            "BqVSMP\n",
            "KfChWvCu\n",
            "TuhkFqs\n",
            "zAwQtB\n",
            "pBtXoOR\n",
            "xjSYeV\n",
            "RQFeHLrU\n",
            "VmYjOKG\n",
            "XJVDkXex\n",
            "sccChHt\n",
            "zLwyRniK\n",
            "XxwHca\n",
            "lvUEVBp\n",
            "tcsEZw\n",
            "iIcfrSH\n",
            "dDYhxPs\n",
            "PcHYSOZ\n",
            "eehhduH\n",
            "vRqWvl\n",
            "bWFGkec\n",
            "RsRxWgMx\n",
            "YtmzJU\n",
            "pMuhmt\n",
            "pKmOOr\n",
            "VwSqoTk\n",
            "IQSfpJ\n",
            "jPUtEpis\n",
            "zOlnMNW\n",
            "XFfxyU\n",
            "KYItPF\n",
            "OlnVzE\n",
            "klJclD\n",
            "EMbzyZR\n",
            "DqaYris\n",
            "zeOLUE\n",
            "LtBhRuaA\n",
            "ZSWZmZLv\n",
            "noGFgop\n",
            "SwtGRjY\n",
            "ekwXhiNa\n",
            "eCicns\n",
            "nihuWb\n",
            "MbFxOG\n",
            "iymEDz\n",
            "YnRBPOzt\n",
            "MKZtSkt\n",
            "RJpoNf\n",
            "KTPkrHD\n",
            "hUezLld\n",
            "MHMGnwMg\n",
            "XPsCpOq\n",
            "bCObDWRE\n",
            "ayRLufVC\n",
            "pwiguO\n",
            "oBLdUS\n",
            "NJqqkl\n",
            "XofcTtSv\n",
            "IgMshVX\n",
            "KtoCRG\n",
            "wZNyqk\n",
            "XzNFxE\n",
            "YKBCVu\n",
            "clrqkqh\n",
            "FylQti\n",
            "iyUeTD\n",
            "fFEebt\n",
            "kAZPorfs\n",
            "JYYaln\n",
            "PubVxQgd\n",
            "HvpHDbg\n",
            "cvqvvHaw\n",
            "ufOkaG\n",
            "nDBxKLlY\n",
            "ehFnWDAZ\n",
            "hVKigJ\n",
            "SjKsuX\n",
            "KbBnUff\n",
            "PTyufjY\n",
            "sRFFnKMD\n",
            "ILrSTL\n",
            "qaiTeX\n",
            "oIRacLP\n",
            "gDIeguaP\n"
          ]
        }
      ]
    },
    {
      "cell_type": "markdown",
      "source": [
        "\n",
        "\n",
        "---\n",
        "\n",
        "\n",
        "\n",
        "(ii) WAP to print all prime numbers between 600 and 800.\n",
        "\n",
        "\n",
        "\n",
        "\n",
        "\n",
        "\n"
      ],
      "metadata": {
        "id": "CSzRL_kY0Br6"
      }
    },
    {
      "cell_type": "code",
      "source": [
        "def is_prime(n):\n",
        "    if n <= 1:\n",
        "        return False\n",
        "    for i in range(2, int(n**0.5) + 1):\n",
        "        if n % i == 0:\n",
        "            return False\n",
        "    return True\n",
        "high = 800\n",
        "low = 600\n",
        "num_prime=[]\n",
        "for i in range(low,high+1):\n",
        "  if is_prime(i):\n",
        "    num_prime.append(i)\n",
        "print(num_prime)"
      ],
      "metadata": {
        "colab": {
          "base_uri": "https://localhost:8080/"
        },
        "id": "EzVUNDoY0G7a",
        "outputId": "87fe4373-a57f-40a7-8028-4e76c3d8f23f"
      },
      "execution_count": null,
      "outputs": [
        {
          "output_type": "stream",
          "name": "stdout",
          "text": [
            "[601, 607, 613, 617, 619, 631, 641, 643, 647, 653, 659, 661, 673, 677, 683, 691, 701, 709, 719, 727, 733, 739, 743, 751, 757, 761, 769, 773, 787, 797]\n"
          ]
        }
      ]
    },
    {
      "cell_type": "markdown",
      "source": [
        "\n",
        "\n",
        "\n",
        "---\n",
        "\n",
        "(iii) WAP to print all numbers between 100 and 1000 that are divisible by 7 and 9."
      ],
      "metadata": {
        "id": "hPnKx4043WwA"
      }
    },
    {
      "cell_type": "code",
      "source": [
        "n1 = 7\n",
        "n2 = 9\n",
        "low = 100\n",
        "high = 1000\n",
        "num_divi = []\n",
        "for i in range(low,high+1):\n",
        "  if(i%n1==0 & i%n2==0):\n",
        "    num_divi.append(i)\n",
        "print(num_divi)"
      ],
      "metadata": {
        "colab": {
          "base_uri": "https://localhost:8080/"
        },
        "id": "aYqv1-Pw3V_0",
        "outputId": "f4922aa9-e246-4346-adb6-66e22f9fcb33"
      },
      "execution_count": null,
      "outputs": [
        {
          "output_type": "stream",
          "name": "stdout",
          "text": [
            "[105, 112, 119, 126, 133, 140, 147, 154, 161, 168, 175, 182, 189, 196, 203, 210, 217, 224, 231, 238, 245, 252, 259, 266, 273, 280, 287, 294, 301, 308, 315, 322, 329, 336, 343, 350, 357, 364, 371, 378, 385, 392, 399, 406, 413, 420, 427, 434, 441, 448, 455, 462, 469, 476, 483, 490, 497, 504, 511, 518, 525, 532, 539, 546, 553, 560, 567, 574, 581, 588, 595, 602, 609, 616, 623, 630, 637, 644, 651, 658, 665, 672, 679, 686, 693, 700, 707, 714, 721, 728, 735, 742, 749, 756, 763, 770, 777, 784, 791, 798, 805, 812, 819, 826, 833, 840, 847, 854, 861, 868, 875, 882, 889, 896, 903, 910, 917, 924, 931, 938, 945, 952, 959, 966, 973, 980, 987, 994]\n"
          ]
        }
      ]
    },
    {
      "cell_type": "markdown",
      "source": [
        "\n",
        "\n",
        "---\n",
        "\n",
        "\n",
        "\n",
        "---\n",
        "\n",
        "# Q5. WAP to create two lists of 10 random numbers between 10 and 30; Find\n",
        "\n"
      ],
      "metadata": {
        "id": "1UJdIMnV359c"
      }
    },
    {
      "cell_type": "code",
      "source": [
        "list1= [random.randint(10,30+1) for _ in range(10)]\n",
        "list2= [random.randint(10,30+1) for _ in range(10)]\n",
        "print(list1)\n",
        "print(list2)"
      ],
      "metadata": {
        "colab": {
          "base_uri": "https://localhost:8080/"
        },
        "id": "QyzokriI4DFJ",
        "outputId": "decaed2f-9c8e-4905-821d-4e97861eb455"
      },
      "execution_count": null,
      "outputs": [
        {
          "output_type": "stream",
          "name": "stdout",
          "text": [
            "[15, 28, 21, 28, 11, 12, 28, 21, 22, 21]\n",
            "[21, 19, 29, 19, 26, 11, 10, 20, 31, 12]\n"
          ]
        }
      ]
    },
    {
      "cell_type": "markdown",
      "source": [
        "\n",
        "\n",
        "---\n",
        "(i) Common numbers in the two lists \n"
      ],
      "metadata": {
        "id": "RzrkmNM63_Pm"
      }
    },
    {
      "cell_type": "code",
      "source": [
        "comm = set(list1) & set(list2)\n",
        "print(\"Common numbers between two lists are: \",list(comm))"
      ],
      "metadata": {
        "colab": {
          "base_uri": "https://localhost:8080/"
        },
        "id": "y5NmmQUd4qRd",
        "outputId": "621c6986-b72c-4921-f936-0f55d714dcc1"
      },
      "execution_count": null,
      "outputs": [
        {
          "output_type": "stream",
          "name": "stdout",
          "text": [
            "Common numbers between two lists are:  [11, 12, 21]\n"
          ]
        }
      ]
    },
    {
      "cell_type": "markdown",
      "source": [
        "\n",
        "\n",
        "---\n",
        "\n",
        "(ii) Unique numbers in both the list "
      ],
      "metadata": {
        "id": "oqc6b4d35CaR"
      }
    },
    {
      "cell_type": "code",
      "source": [
        "unique_list = set(list1) | set(list2)\n",
        "print(\"Unique numbers in both lists: \",list(unique_list))"
      ],
      "metadata": {
        "colab": {
          "base_uri": "https://localhost:8080/"
        },
        "id": "NgQhqqWP5F63",
        "outputId": "00e49e32-69e5-4cd0-8f98-e7c20fc951a5"
      },
      "execution_count": null,
      "outputs": [
        {
          "output_type": "stream",
          "name": "stdout",
          "text": [
            "Unique numbers in both lists:  [10, 11, 12, 15, 19, 20, 21, 22, 26, 28, 29, 31]\n"
          ]
        }
      ]
    },
    {
      "cell_type": "markdown",
      "source": [
        "\n",
        "\n",
        "---\n",
        "\n",
        "(iii) Minimum in both the list "
      ],
      "metadata": {
        "id": "hlYKtDpc5u2v"
      }
    },
    {
      "cell_type": "code",
      "source": [
        "#method 1\n",
        "unique_list = list( set(list1) | set (list2))\n",
        "minimum = min(unique_list)\n",
        "print(\"minimum in both lists is(method 1): \",minimum)\n",
        "\n",
        "#method 2\n",
        "min1=min(list1)\n",
        "min2=min(list2)\n",
        "min_both=min(min1,min2)\n",
        "print(\"minimum in both lists is(method 2): \",min_both)"
      ],
      "metadata": {
        "colab": {
          "base_uri": "https://localhost:8080/"
        },
        "id": "v3yGv_zD6ZKm",
        "outputId": "3e4a9872-9e77-4846-bbc1-b9fdc66bea31"
      },
      "execution_count": null,
      "outputs": [
        {
          "output_type": "stream",
          "name": "stdout",
          "text": [
            "minimum in both lists is(method 1):  10\n",
            "minimum in both lists is(method 2):  10\n"
          ]
        }
      ]
    },
    {
      "cell_type": "markdown",
      "source": [
        "\n",
        "\n",
        "---\n",
        "\n",
        "(iv) Maximum in both the list"
      ],
      "metadata": {
        "id": "vXxdZIwU6pPv"
      }
    },
    {
      "cell_type": "code",
      "source": [
        "#method 1\n",
        "unique_list = list( set(list1) | set (list2))\n",
        "maximum = max(unique_list)\n",
        "print(\"maximum in both lists is(method 1): \",maximum)\n",
        "\n",
        "#method 2\n",
        "max1=max(list1)\n",
        "max2=max(list2)\n",
        "max_both=max(max1,max2)\n",
        "print(\"maximum in both lists is(method 2): \",max_both)"
      ],
      "metadata": {
        "colab": {
          "base_uri": "https://localhost:8080/"
        },
        "id": "5lX5E9hC50Of",
        "outputId": "06dc6792-1efa-42fa-866a-373b01d94853"
      },
      "execution_count": null,
      "outputs": [
        {
          "output_type": "stream",
          "name": "stdout",
          "text": [
            "maximum in both lists is(method 1):  31\n",
            "maximum in both lists is(method 2):  31\n"
          ]
        }
      ]
    },
    {
      "cell_type": "markdown",
      "source": [
        "\n",
        "\n",
        "---\n",
        "\n",
        "(v) Sum of both the lists"
      ],
      "metadata": {
        "id": "_sgiibnX7AKa"
      }
    },
    {
      "cell_type": "code",
      "source": [
        "#method 1\n",
        "sum1 = sum(list1)\n",
        "sum2 = sum(list2)\n",
        "sum_both = sum1 + sum2\n",
        "print(\"Sum of list1 is(method 1): \",sum1)\n",
        "print(\"Sum of list2 is(method 1): \",sum2)\n",
        "print(\"Sum of both lists is(method 1): \",sum_both)\n",
        "\n",
        "#method 2\n",
        "list3 = list1 + list2\n",
        "sum_comb = sum(list3)\n",
        "print(\"\\nSum of both lists is(method 2): \",sum_comb)"
      ],
      "metadata": {
        "colab": {
          "base_uri": "https://localhost:8080/"
        },
        "id": "8VEPk3iF7ELx",
        "outputId": "98833fb9-36d8-4202-e29f-1d5685029356"
      },
      "execution_count": null,
      "outputs": [
        {
          "output_type": "stream",
          "name": "stdout",
          "text": [
            "Sum of list1 is(method 1):  207\n",
            "Sum of list2 is(method 1):  198\n",
            "Sum of both lists is(method 1):  405\n",
            "\n",
            "Sum of both lists is(method 2):  405\n"
          ]
        }
      ]
    },
    {
      "cell_type": "markdown",
      "source": [
        "\n",
        "\n",
        "---\n",
        "# Q6. WAP to create a list of 100 random numbers between 100 and 900. Count and print the:\n",
        "\n",
        "\n",
        "---\n",
        "\n"
      ],
      "metadata": {
        "id": "kCTbG-gw8rSJ"
      }
    },
    {
      "cell_type": "code",
      "source": [
        "rand_list=[random.randint(100,900) for _ in range(100)]\n",
        "print(rand_list)"
      ],
      "metadata": {
        "colab": {
          "base_uri": "https://localhost:8080/"
        },
        "id": "UrgnrlUvMssJ",
        "outputId": "103841fa-947b-490c-fa15-912a6da19000"
      },
      "execution_count": null,
      "outputs": [
        {
          "output_type": "stream",
          "name": "stdout",
          "text": [
            "[318, 626, 460, 763, 124, 725, 446, 478, 780, 710, 358, 179, 737, 361, 181, 787, 814, 124, 209, 583, 762, 671, 301, 489, 827, 167, 372, 512, 526, 804, 157, 865, 875, 502, 310, 669, 173, 789, 332, 319, 762, 287, 201, 454, 365, 853, 525, 171, 615, 282, 153, 220, 710, 358, 401, 591, 506, 803, 324, 260, 163, 588, 154, 483, 799, 453, 364, 705, 418, 810, 420, 870, 490, 614, 631, 361, 328, 824, 263, 347, 895, 749, 794, 515, 413, 574, 132, 411, 160, 739, 832, 766, 299, 308, 105, 187, 792, 890, 116, 720]\n"
          ]
        }
      ]
    },
    {
      "cell_type": "markdown",
      "source": [
        "\n",
        "\n",
        "---\n",
        "\n",
        "(i) All odd numbers "
      ],
      "metadata": {
        "id": "pgtePAYnM64S"
      }
    },
    {
      "cell_type": "code",
      "source": [
        "for i in rand_list:\n",
        "  if i%2!=0:\n",
        "    print(i)"
      ],
      "metadata": {
        "colab": {
          "base_uri": "https://localhost:8080/"
        },
        "id": "7YKGFA7tM-O1",
        "outputId": "4de495ab-31aa-44f7-c7c1-5c2437f40b94"
      },
      "execution_count": null,
      "outputs": [
        {
          "output_type": "stream",
          "name": "stdout",
          "text": [
            "763\n",
            "725\n",
            "179\n",
            "737\n",
            "361\n",
            "181\n",
            "787\n",
            "209\n",
            "583\n",
            "671\n",
            "301\n",
            "489\n",
            "827\n",
            "167\n",
            "157\n",
            "865\n",
            "875\n",
            "669\n",
            "173\n",
            "789\n",
            "319\n",
            "287\n",
            "201\n",
            "365\n",
            "853\n",
            "525\n",
            "171\n",
            "615\n",
            "153\n",
            "401\n",
            "591\n",
            "803\n",
            "163\n",
            "483\n",
            "799\n",
            "453\n",
            "705\n",
            "631\n",
            "361\n",
            "263\n",
            "347\n",
            "895\n",
            "749\n",
            "515\n",
            "413\n",
            "411\n",
            "739\n",
            "299\n",
            "105\n",
            "187\n"
          ]
        }
      ]
    },
    {
      "cell_type": "markdown",
      "source": [
        "\n",
        "\n",
        "---\n",
        "\n",
        "(ii) All even numbers "
      ],
      "metadata": {
        "id": "sDS5zWFINPvk"
      }
    },
    {
      "cell_type": "code",
      "source": [
        "for i in rand_list:\n",
        "  if i%2==0:\n",
        "    print(i)"
      ],
      "metadata": {
        "colab": {
          "base_uri": "https://localhost:8080/"
        },
        "id": "nh_Gv1yJNISK",
        "outputId": "224be715-e6d4-4c47-917c-4d221a793872"
      },
      "execution_count": null,
      "outputs": [
        {
          "output_type": "stream",
          "name": "stdout",
          "text": [
            "318\n",
            "626\n",
            "460\n",
            "124\n",
            "446\n",
            "478\n",
            "780\n",
            "710\n",
            "358\n",
            "814\n",
            "124\n",
            "762\n",
            "372\n",
            "512\n",
            "526\n",
            "804\n",
            "502\n",
            "310\n",
            "332\n",
            "762\n",
            "454\n",
            "282\n",
            "220\n",
            "710\n",
            "358\n",
            "506\n",
            "324\n",
            "260\n",
            "588\n",
            "154\n",
            "364\n",
            "418\n",
            "810\n",
            "420\n",
            "870\n",
            "490\n",
            "614\n",
            "328\n",
            "824\n",
            "794\n",
            "574\n",
            "132\n",
            "160\n",
            "832\n",
            "766\n",
            "308\n",
            "792\n",
            "890\n",
            "116\n",
            "720\n"
          ]
        }
      ]
    },
    {
      "cell_type": "markdown",
      "source": [
        "\n",
        "\n",
        "---\n",
        "(iii) All prime numbers\n",
        "\n"
      ],
      "metadata": {
        "id": "EjYCzsdSNWzD"
      }
    },
    {
      "cell_type": "code",
      "source": [
        "def is_prime(n):\n",
        "  for i in range(2,n//2+1):\n",
        "    if n%i==0:\n",
        "      return False\n",
        "  return True\n",
        "for i in rand_list:\n",
        "  if is_prime(i):\n",
        "    print(i)"
      ],
      "metadata": {
        "colab": {
          "base_uri": "https://localhost:8080/"
        },
        "id": "viOnuJ_8NbTD",
        "outputId": "1bde92c1-92a9-450c-de72-f206bbebb364"
      },
      "execution_count": null,
      "outputs": [
        {
          "output_type": "stream",
          "name": "stdout",
          "text": [
            "179\n",
            "181\n",
            "787\n",
            "827\n",
            "167\n",
            "157\n",
            "173\n",
            "853\n",
            "401\n",
            "163\n",
            "631\n",
            "263\n",
            "347\n",
            "739\n"
          ]
        }
      ]
    },
    {
      "cell_type": "markdown",
      "source": [
        "\n",
        "\n",
        "---\n",
        "\n",
        "\n",
        "\n",
        "---\n",
        "\n",
        "# Q7. D is a dictionary defined as D={1:\"One\",2:\"Two\",3:\"Three\",4:\"Four\", 5:\"Five\"}.\n"
      ],
      "metadata": {
        "id": "okuqjXCcOKeK"
      }
    },
    {
      "cell_type": "code",
      "source": [
        "D={1:\"One\",2:\"Two\",3:\"Three\",4:\"Four\", 5:\"Five\"}\n",
        "print(D)"
      ],
      "metadata": {
        "colab": {
          "base_uri": "https://localhost:8080/"
        },
        "id": "WDaNc9OWNh7V",
        "outputId": "98a2f573-58c6-493e-c195-4c7d66b1b391"
      },
      "execution_count": null,
      "outputs": [
        {
          "output_type": "stream",
          "name": "stdout",
          "text": [
            "{1: 'One', 2: 'Two', 3: 'Three', 4: 'Four', 5: 'Five'}\n"
          ]
        }
      ]
    },
    {
      "cell_type": "markdown",
      "source": [
        "WAP to read all the keys and values from dictionary and write to the file in the given below format.\n",
        "\n",
        "\n",
        "*   Key1, Value1\n",
        "*   Key2, Value2\n",
        "*   Key3, Value3"
      ],
      "metadata": {
        "id": "kAWtSCzzPQUb"
      }
    },
    {
      "cell_type": "code",
      "source": [
        "file_name = 'output.txt'\n",
        "with open(filename, 'w') as file:\n",
        "  for key, value in D.items():\n",
        "    file.write(f\"{key}, {value}\\n\")"
      ],
      "metadata": {
        "id": "Q51Fn5maPRUY"
      },
      "execution_count": null,
      "outputs": []
    },
    {
      "cell_type": "markdown",
      "source": [
        "\n",
        "\n",
        "---\n",
        "\n",
        "\n",
        "\n",
        "---\n",
        "\n",
        " L is a list defined as L={\"One\",\"Two\",\"Three\",\"Four\",\"Five\"}.\n",
        "WAP to count the length of reach element from a list and write to the file in the given below format:\n",
        "One, 3\n",
        "Two, 3\n",
        "Four, 4"
      ],
      "metadata": {
        "id": "LKCT5ogXtxsA"
      }
    },
    {
      "cell_type": "code",
      "source": [
        "L={\"One\",\"Two\",\"Three\",\"Four\",\"Five\"}"
      ],
      "metadata": {
        "id": "4NuzLc-Pt411"
      },
      "execution_count": null,
      "outputs": []
    },
    {
      "cell_type": "code",
      "source": [
        "file_name = 'output2.txt'\n",
        "with open(file_name, 'w') as file:\n",
        "  for element in L:\n",
        "    length = len(element)\n",
        "    file.write(f\"{element}, {length}\\n\")"
      ],
      "metadata": {
        "colab": {
          "base_uri": "https://localhost:8080/",
          "height": 235
        },
        "id": "IYZ-qdFft7i-",
        "outputId": "29725883-1f80-4ce8-875d-f582103cbc2a"
      },
      "execution_count": null,
      "outputs": [
        {
          "output_type": "error",
          "ename": "NameError",
          "evalue": "ignored",
          "traceback": [
            "\u001b[0;31m---------------------------------------------------------------------------\u001b[0m",
            "\u001b[0;31mNameError\u001b[0m                                 Traceback (most recent call last)",
            "\u001b[0;32m<ipython-input-2-3d66ad6c1acc>\u001b[0m in \u001b[0;36m<cell line: 2>\u001b[0;34m()\u001b[0m\n\u001b[1;32m      1\u001b[0m \u001b[0mfile_name\u001b[0m \u001b[0;34m=\u001b[0m \u001b[0;34m'output2.txt'\u001b[0m\u001b[0;34m\u001b[0m\u001b[0;34m\u001b[0m\u001b[0m\n\u001b[0;32m----> 2\u001b[0;31m \u001b[0;32mwith\u001b[0m \u001b[0mopen\u001b[0m\u001b[0;34m(\u001b[0m\u001b[0mfilename\u001b[0m\u001b[0;34m,\u001b[0m \u001b[0;34m'w'\u001b[0m\u001b[0;34m)\u001b[0m \u001b[0;32mas\u001b[0m \u001b[0mfile\u001b[0m\u001b[0;34m:\u001b[0m\u001b[0;34m\u001b[0m\u001b[0;34m\u001b[0m\u001b[0m\n\u001b[0m\u001b[1;32m      3\u001b[0m   \u001b[0;32mfor\u001b[0m \u001b[0melement\u001b[0m \u001b[0;32min\u001b[0m \u001b[0mL\u001b[0m\u001b[0;34m:\u001b[0m\u001b[0;34m\u001b[0m\u001b[0;34m\u001b[0m\u001b[0m\n\u001b[1;32m      4\u001b[0m     \u001b[0mlength\u001b[0m \u001b[0;34m=\u001b[0m \u001b[0mlen\u001b[0m\u001b[0;34m(\u001b[0m\u001b[0melement\u001b[0m\u001b[0;34m)\u001b[0m\u001b[0;34m\u001b[0m\u001b[0;34m\u001b[0m\u001b[0m\n\u001b[1;32m      5\u001b[0m     \u001b[0mfile\u001b[0m\u001b[0;34m.\u001b[0m\u001b[0mwrite\u001b[0m\u001b[0;34m(\u001b[0m\u001b[0;34mf\"{element}, {length}\\n\"\u001b[0m\u001b[0;34m)\u001b[0m\u001b[0;34m\u001b[0m\u001b[0;34m\u001b[0m\u001b[0m\n",
            "\u001b[0;31mNameError\u001b[0m: name 'filename' is not defined"
          ]
        }
      ]
    },
    {
      "cell_type": "markdown",
      "source": [
        "\n",
        "\n",
        "---\n",
        "\n",
        "\n",
        "---\n",
        "\n",
        "# Write to the file 100 random strings whose length between 10 and 15.\n"
      ],
      "metadata": {
        "id": "xWAjn_HJuP8g"
      }
    },
    {
      "cell_type": "code",
      "source": [
        "import random\n",
        "import string"
      ],
      "metadata": {
        "id": "OHc_qG4Puani"
      },
      "execution_count": null,
      "outputs": []
    },
    {
      "cell_type": "code",
      "source": [
        "num_strings = 100\n",
        "min_length = 10\n",
        "max_length = 15\n",
        "letters = string.ascii_letters\n",
        "file_name = 'output3.txt'\n",
        "with open(file_name, 'w') as file:\n",
        "   for _ in range(num_strings): \n",
        "    string_length = random.randint(min_length, max_length)\n",
        "    random_string = ''.join(random.choice(letters) for _ in range(string_length))\n",
        "    file.write(random_string + '\\n')"
      ],
      "metadata": {
        "id": "5btP2mKuubbX"
      },
      "execution_count": null,
      "outputs": []
    },
    {
      "cell_type": "markdown",
      "source": [
        "\n",
        "\n",
        "---\n",
        "\n",
        "\n",
        "\n",
        "---\n",
        "\n",
        "# Write to the file all prime numbers between 600 and 800."
      ],
      "metadata": {
        "id": "_k0Yc3fsu8FA"
      }
    },
    {
      "cell_type": "code",
      "source": [
        "def is_prime(n):\n",
        "    if n <= 1:\n",
        "     return False\n",
        "    for i in range(2, int(n**0.5) + 1):\n",
        "      if n % i == 0:\n",
        "        return False\n",
        "    return True"
      ],
      "metadata": {
        "id": "uTwUwIwnu_R_"
      },
      "execution_count": null,
      "outputs": []
    },
    {
      "cell_type": "code",
      "source": [
        "start = 600\n",
        "end = 800\n",
        "file_name = 'output4.txt'\n",
        "with open(file_name, 'w') as file:\n",
        "  for num in range(start, end + 1):\n",
        "      if is_prime(num):\n",
        "        file.write(str(num) + '\\n')\n"
      ],
      "metadata": {
        "id": "wthAGB_ovFMl"
      },
      "execution_count": null,
      "outputs": []
    },
    {
      "cell_type": "markdown",
      "source": [
        "\n",
        "\n",
        "---\n",
        "\n",
        "\n",
        "\n",
        "---\n",
        "# WAP to calculate the time taken by a program.\n"
      ],
      "metadata": {
        "id": "8AAz7ojswFUk"
      }
    },
    {
      "cell_type": "code",
      "source": [
        "import time as time"
      ],
      "metadata": {
        "id": "1cCg4gLXyVUW"
      },
      "execution_count": null,
      "outputs": []
    },
    {
      "cell_type": "code",
      "source": [
        "start_time=time.time()\n",
        "#program is here\n",
        "print('Hello world')\n",
        "end_time=time.time()\n",
        "print('Total time taken by program: ',end_time-start_time)"
      ],
      "metadata": {
        "id": "wIZXSpGpyb2A"
      },
      "execution_count": null,
      "outputs": []
    },
    {
      "cell_type": "markdown",
      "source": [
        "\n",
        "\n",
        "---\n",
        "\n",
        "\n",
        "\n",
        "---\n",
        "\n",
        "WAP to sort following number of elements in a list, calculate time taken and plot the graph.\n",
        "Number of elements in list Time Taken\n",
        "50k T1\n",
        "100k T2\n",
        "150k T3\n",
        "200k T4\n",
        "250k T5"
      ],
      "metadata": {
        "id": "2t5bOCq5y2bg"
      }
    },
    {
      "cell_type": "code",
      "source": [
        "import random\n",
        "import time\n",
        "import matplotlib.pyplot as plt\n",
        "\n",
        "def sort_list(num_elements, range_start, range_end):\n",
        "  lst = [random.randint(range_start, range_end) for _ in range(num_elements)]  # Generate a random list within a range\n",
        "  start_time = time.time()\n",
        "  lst.sort()  # Sort the list\n",
        "  end_time = time.time()\n",
        "  return end_time - start_time\n",
        "\n",
        "num_elements_list = [50000, 100000, 150000, 200000, 250000]\n",
        "range_start = 1  # Start of the range\n",
        "range_end = 1000000  # End of the range\n",
        "time_taken_list = []\n",
        "\n",
        "for num_elements in num_elements_list:\n",
        "  time_taken = sort_list(num_elements, range_start, range_end)\n",
        "  time_taken_list.append(time_taken)\n",
        "\n",
        "plt.plot(num_elements_list, time_taken_list, marker='o')\n",
        "plt.xlabel('Number of Elements')\n",
        "plt.ylabel('Time Taken (seconds)')\n",
        "plt.title('Sorting Time vs. Number of Elements')\n",
        "plt.show()"
      ],
      "metadata": {
        "colab": {
          "base_uri": "https://localhost:8080/",
          "height": 472
        },
        "id": "9K1bjIt3y5sT",
        "outputId": "6c92a129-c83d-46cd-93c0-ff07a1ddc466"
      },
      "execution_count": null,
      "outputs": [
        {
          "output_type": "display_data",
          "data": {
            "text/plain": [
              "<Figure size 640x480 with 1 Axes>"
            ],
            "image/png": "[encoded data removed]"
          },
          "metadata": {}
        }
      ]
    },
    {
      "cell_type": "markdown",
      "source": [
        "\n",
        "\n",
        "---\n",
        "\n",
        "\n",
        "\n",
        "---\n",
        "\n",
        "# WAP to create a dictionary of student marks in five subjects and you have to find the student having maximum and minimum average marks."
      ],
      "metadata": {
        "id": "s89RLZadz7Wa"
      }
    },
    {
      "cell_type": "code",
      "source": [
        "def find_student_with_max_min_average_marks(marks_dict):\n",
        "  max_average = float('-inf')\n",
        "  min_average = float('inf')\n",
        "  max_student = \"\"\n",
        "  min_student = \"\"\n",
        "\n",
        "  for student, marks in marks_dict.items():\n",
        "    total_marks = sum(marks)\n",
        "    average_marks = total_marks / len(marks)\n",
        "\n",
        "    if average_marks > max_average:\n",
        "      max_average = average_marks\n",
        "      max_student = student\n",
        "\n",
        "    if average_marks < min_average:\n",
        "       min_average = average_marks\n",
        "       min_student = student\n",
        "\n",
        "  return max_student, min_student,max_average,min_average\n",
        "\n",
        "# Example dictionary of student marks\n",
        "student_marks = {\n",
        "    \"John\": [85, 90, 92, 88, 89],\n",
        "    \"Alice\": [78, 82, 80, 75, 77],\n",
        "    \"Bob\": [92, 88, 95, 85, 90],\n",
        "    \"Emily\": [80, 85, 86, 88, 90],\n",
        "    \"David\": [75, 80, 78, 82, 80]\n",
        "}\n",
        "\n",
        "\n",
        "max_student, min_student, max_average, min_average = find_student_with_max_min_average_marks(student_marks)\n",
        "\n",
        "print(\"Student with Maximum Average Marks:\")\n",
        "print(\"Name:\", max_student)\n",
        "print(\"Average Marks:\", max_average)\n",
        "\n",
        "print(\"\\nStudent with Minimum Average Marks:\")\n",
        "print(\"Name:\", min_student)\n",
        "print(\"Average Marks:\", min_average)\n"
      ],
      "metadata": {
        "id": "-Gdje8kv0BlE"
      },
      "execution_count": null,
      "outputs": []
    }
  ]
}